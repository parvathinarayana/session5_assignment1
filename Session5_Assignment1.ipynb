{
 "cells": [
  {
   "cell_type": "markdown",
   "metadata": {},
   "source": [
    "1) How-to-count-distance-to-the-previous-zero\n",
    "For each value, count the difference of the distance from the previous zero (or the start of the Series, whichever is closer) and if there are no previous zeros,print the position Consider a DataFrame df where there is an integer column {'X':[7, 2, 0, 3, 4, 2, 5, 0, 3, 4]}\n",
    "The values should therefore be [1, 2, 0, 1, 2, 3, 4, 0, 1, 2]. Make this a new column 'Y'. \n",
    "import pandas as pd\n",
    "df = pd.DataFrame({'X': [7, 2, 0, 3, 4, 2, 5, 0, 3, 4]})\n",
    "\n",
    "2) Create a DatetimeIndex that contains each business day of 2015 and use it to index a Series of random numbers.\n",
    "\n",
    "3) Find the sum of the values in s for every Wednesday\n",
    "\n",
    "4) Average For each calendar month\n",
    "\n",
    "5) For each group of four consecutive calendar months in s, find the date on which the highest value occurred."
   ]
  },
  {
   "cell_type": "code",
   "execution_count": 1,
   "metadata": {},
   "outputs": [],
   "source": [
    "import pandas as pd\n",
    "import numpy as np"
   ]
  },
  {
   "cell_type": "code",
   "execution_count": 2,
   "metadata": {},
   "outputs": [],
   "source": [
    "df = pd.DataFrame({'X': [7, 2, 0, 3, 4, 2, 5, 0, 3, 4]})"
   ]
  },
  {
   "cell_type": "code",
   "execution_count": 3,
   "metadata": {},
   "outputs": [],
   "source": [
    "x = (df['X'] != 0).cumsum()\n",
    "y = x != x.shift()\n",
    "df['Y'] = y.groupby((y != y.shift()).cumsum()).cumsum()"
   ]
  },
  {
   "cell_type": "code",
   "execution_count": 4,
   "metadata": {},
   "outputs": [
    {
     "data": {
      "text/html": [
       "<div>\n",
       "<style scoped>\n",
       "    .dataframe tbody tr th:only-of-type {\n",
       "        vertical-align: middle;\n",
       "    }\n",
       "\n",
       "    .dataframe tbody tr th {\n",
       "        vertical-align: top;\n",
       "    }\n",
       "\n",
       "    .dataframe thead th {\n",
       "        text-align: right;\n",
       "    }\n",
       "</style>\n",
       "<table border=\"1\" class=\"dataframe\">\n",
       "  <thead>\n",
       "    <tr style=\"text-align: right;\">\n",
       "      <th></th>\n",
       "      <th>X</th>\n",
       "      <th>Y</th>\n",
       "    </tr>\n",
       "  </thead>\n",
       "  <tbody>\n",
       "    <tr>\n",
       "      <th>0</th>\n",
       "      <td>7</td>\n",
       "      <td>1.0</td>\n",
       "    </tr>\n",
       "    <tr>\n",
       "      <th>1</th>\n",
       "      <td>2</td>\n",
       "      <td>2.0</td>\n",
       "    </tr>\n",
       "    <tr>\n",
       "      <th>2</th>\n",
       "      <td>0</td>\n",
       "      <td>0.0</td>\n",
       "    </tr>\n",
       "    <tr>\n",
       "      <th>3</th>\n",
       "      <td>3</td>\n",
       "      <td>1.0</td>\n",
       "    </tr>\n",
       "    <tr>\n",
       "      <th>4</th>\n",
       "      <td>4</td>\n",
       "      <td>2.0</td>\n",
       "    </tr>\n",
       "    <tr>\n",
       "      <th>5</th>\n",
       "      <td>2</td>\n",
       "      <td>3.0</td>\n",
       "    </tr>\n",
       "    <tr>\n",
       "      <th>6</th>\n",
       "      <td>5</td>\n",
       "      <td>4.0</td>\n",
       "    </tr>\n",
       "    <tr>\n",
       "      <th>7</th>\n",
       "      <td>0</td>\n",
       "      <td>0.0</td>\n",
       "    </tr>\n",
       "    <tr>\n",
       "      <th>8</th>\n",
       "      <td>3</td>\n",
       "      <td>1.0</td>\n",
       "    </tr>\n",
       "    <tr>\n",
       "      <th>9</th>\n",
       "      <td>4</td>\n",
       "      <td>2.0</td>\n",
       "    </tr>\n",
       "  </tbody>\n",
       "</table>\n",
       "</div>"
      ],
      "text/plain": [
       "   X    Y\n",
       "0  7  1.0\n",
       "1  2  2.0\n",
       "2  0  0.0\n",
       "3  3  1.0\n",
       "4  4  2.0\n",
       "5  2  3.0\n",
       "6  5  4.0\n",
       "7  0  0.0\n",
       "8  3  1.0\n",
       "9  4  2.0"
      ]
     },
     "execution_count": 4,
     "metadata": {},
     "output_type": "execute_result"
    }
   ],
   "source": [
    "df"
   ]
  },
  {
   "cell_type": "code",
   "execution_count": 5,
   "metadata": {},
   "outputs": [],
   "source": [
    "datetimeindex = pd.date_range(start='2015-01-01', end='2015-12-31')\n",
    "s = pd.Series(np.random.rand(len(datetimeindex)),index=datetimeindex)"
   ]
  },
  {
   "cell_type": "code",
   "execution_count": 6,
   "metadata": {},
   "outputs": [
    {
     "data": {
      "text/plain": [
       "2015-01-01    0.777673\n",
       "2015-01-02    0.259776\n",
       "2015-01-03    0.733549\n",
       "2015-01-04    0.017787\n",
       "2015-01-05    0.978782\n",
       "2015-01-06    0.115295\n",
       "2015-01-07    0.357299\n",
       "2015-01-08    0.146502\n",
       "2015-01-09    0.054757\n",
       "2015-01-10    0.689181\n",
       "2015-01-11    0.496599\n",
       "2015-01-12    0.740279\n",
       "2015-01-13    0.971320\n",
       "2015-01-14    0.535392\n",
       "2015-01-15    0.187969\n",
       "2015-01-16    0.734451\n",
       "2015-01-17    0.617995\n",
       "2015-01-18    0.543187\n",
       "2015-01-19    0.759698\n",
       "2015-01-20    0.936010\n",
       "2015-01-21    0.291851\n",
       "2015-01-22    0.867777\n",
       "2015-01-23    0.428899\n",
       "2015-01-24    0.974224\n",
       "2015-01-25    0.105016\n",
       "2015-01-26    0.724911\n",
       "2015-01-27    0.130683\n",
       "2015-01-28    0.473493\n",
       "2015-01-29    0.183352\n",
       "2015-01-30    0.618861\n",
       "                ...   \n",
       "2015-12-02    0.493832\n",
       "2015-12-03    0.970890\n",
       "2015-12-04    0.236099\n",
       "2015-12-05    0.169181\n",
       "2015-12-06    0.849186\n",
       "2015-12-07    0.559425\n",
       "2015-12-08    0.636430\n",
       "2015-12-09    0.761331\n",
       "2015-12-10    0.581792\n",
       "2015-12-11    0.601794\n",
       "2015-12-12    0.320784\n",
       "2015-12-13    0.834312\n",
       "2015-12-14    0.610010\n",
       "2015-12-15    0.350710\n",
       "2015-12-16    0.078260\n",
       "2015-12-17    0.291110\n",
       "2015-12-18    0.770852\n",
       "2015-12-19    0.290774\n",
       "2015-12-20    0.556690\n",
       "2015-12-21    0.984480\n",
       "2015-12-22    0.008915\n",
       "2015-12-23    0.333068\n",
       "2015-12-24    0.804663\n",
       "2015-12-25    0.052135\n",
       "2015-12-26    0.146481\n",
       "2015-12-27    0.815310\n",
       "2015-12-28    0.767972\n",
       "2015-12-29    0.568238\n",
       "2015-12-30    0.525755\n",
       "2015-12-31    0.039706\n",
       "Freq: D, Length: 365, dtype: float64"
      ]
     },
     "execution_count": 6,
     "metadata": {},
     "output_type": "execute_result"
    }
   ],
   "source": [
    "s"
   ]
  },
  {
   "cell_type": "code",
   "execution_count": 7,
   "metadata": {},
   "outputs": [
    {
     "data": {
      "text/plain": [
       "25.298240971450955"
      ]
     },
     "execution_count": 7,
     "metadata": {},
     "output_type": "execute_result"
    }
   ],
   "source": [
    "s[datetimeindex.weekday_name == 'Wednesday'].sum()"
   ]
  },
  {
   "cell_type": "code",
   "execution_count": 8,
   "metadata": {},
   "outputs": [
    {
     "data": {
      "text/plain": [
       "2015-01-31    0.514381\n",
       "2015-02-28    0.561959\n",
       "2015-03-31    0.539730\n",
       "2015-04-30    0.481940\n",
       "2015-05-31    0.483181\n",
       "2015-06-30    0.541487\n",
       "2015-07-31    0.504971\n",
       "2015-08-31    0.492495\n",
       "2015-09-30    0.392650\n",
       "2015-10-31    0.458979\n",
       "2015-11-30    0.549048\n",
       "2015-12-31    0.492089\n",
       "Freq: M, dtype: float64"
      ]
     },
     "execution_count": 8,
     "metadata": {},
     "output_type": "execute_result"
    }
   ],
   "source": [
    "s.groupby(pd.Grouper(freq='M')).mean()"
   ]
  },
  {
   "cell_type": "code",
   "execution_count": 9,
   "metadata": {},
   "outputs": [
    {
     "data": {
      "text/plain": [
       "2015-01-31    0.978782\n",
       "2015-05-31    0.986877\n",
       "2015-09-30    0.993038\n",
       "2016-01-31    0.984480\n",
       "dtype: float64"
      ]
     },
     "execution_count": 9,
     "metadata": {},
     "output_type": "execute_result"
    }
   ],
   "source": [
    "s.groupby(pd.Grouper(freq='4M')).max()"
   ]
  },
  {
   "cell_type": "code",
   "execution_count": null,
   "metadata": {},
   "outputs": [],
   "source": []
  }
 ],
 "metadata": {
  "kernelspec": {
   "display_name": "Python 3",
   "language": "python",
   "name": "python3"
  },
  "language_info": {
   "codemirror_mode": {
    "name": "ipython",
    "version": 3
   },
   "file_extension": ".py",
   "mimetype": "text/x-python",
   "name": "python",
   "nbconvert_exporter": "python",
   "pygments_lexer": "ipython3",
   "version": "3.7.0"
  }
 },
 "nbformat": 4,
 "nbformat_minor": 2
}
